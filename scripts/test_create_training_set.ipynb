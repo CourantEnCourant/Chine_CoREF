{
 "cells": [
  {
   "metadata": {},
   "cell_type": "markdown",
   "source": [
    "# Introduction\n",
    "\n",
    "- Load datasets with pandas and create headers for them.\n",
    "- Convert pandas dataframe to parquet"
   ],
   "id": "3531b4ca60b2d3f7"
  },
  {
   "metadata": {
    "ExecuteTime": {
     "end_time": "2024-07-10T13:07:43.277766Z",
     "start_time": "2024-07-10T13:07:43.269968Z"
    }
   },
   "cell_type": "code",
   "source": "import pandas as pd",
   "id": "85e7c57645186438",
   "outputs": [],
   "execution_count": 41
  },
  {
   "metadata": {
    "ExecuteTime": {
     "end_time": "2024-07-10T13:07:43.619965Z",
     "start_time": "2024-07-10T13:07:43.612914Z"
    }
   },
   "cell_type": "code",
   "source": [
    "pos_file = '../data/clean/tweets_positive.txt'\n",
    "neg_file = '../data/clean/tweets_negative.txt'"
   ],
   "id": "deaeb78a5a6155b7",
   "outputs": [],
   "execution_count": 42
  },
  {
   "metadata": {
    "ExecuteTime": {
     "end_time": "2024-07-10T13:07:45.922277Z",
     "start_time": "2024-07-10T13:07:44.001221Z"
    }
   },
   "cell_type": "code",
   "source": [
    "pos_df = pd.read_csv(pos_file, sep='\\t', header=None)\n",
    "neg_df = pd.read_csv(neg_file, sep='\\t', header=None)"
   ],
   "id": "7da0f751d514fb12",
   "outputs": [],
   "execution_count": 43
  },
  {
   "metadata": {
    "ExecuteTime": {
     "end_time": "2024-07-10T13:07:45.942010Z",
     "start_time": "2024-07-10T13:07:45.926937Z"
    }
   },
   "cell_type": "code",
   "source": "print(pos_df[:5])",
   "id": "39d9b657d6e27f6a",
   "outputs": [
    {
     "name": "stdout",
     "output_type": "stream",
     "text": [
      "                                                   0\n",
      "0  业主合法维权遭遇不明人员人身攻击，并被强制夺取手机。shenglong又一城业主遭遇第三次延...\n",
      "1  《关于黑心蓝山企业骗取业主辛苦钱导致蓝山青年城楼房无水电业主无家可归！》首先跪求感谢大家帮忙...\n",
      "2  位于延安原纸箱厂家属区的丰足家园小区开发商勾结置业公司，欺诈老百姓血汗钱。丰足家园所有的业主...\n",
      "3  升龙今日再陷维权门多个项目遭业主围堵凤凰房产郑州讯11月3日下午2时许，在郑州高新区管委会门...\n",
      "4            #合肥身边事#又堵路了！！望江路改造取消了合巢路路口附近居民不满于是堵路抗议​\n"
     ]
    }
   ],
   "execution_count": 44
  },
  {
   "metadata": {
    "ExecuteTime": {
     "end_time": "2024-07-10T13:07:48.442868Z",
     "start_time": "2024-07-10T13:07:48.432382Z"
    }
   },
   "cell_type": "code",
   "source": [
    "# Add text header\n",
    "pos_df.columns = ['text']\n",
    "neg_df.columns = ['text']\n",
    "\n",
    "# Add labels\n",
    "pos_df['label'] = 1\n",
    "neg_df['label'] = 0"
   ],
   "id": "324b17913c5ae6de",
   "outputs": [],
   "execution_count": 45
  },
  {
   "metadata": {
    "ExecuteTime": {
     "end_time": "2024-07-10T13:07:50.189352Z",
     "start_time": "2024-07-10T13:07:50.177695Z"
    }
   },
   "cell_type": "code",
   "source": "print(neg_df[:5])",
   "id": "acbe4ef2d9089b9e",
   "outputs": [
    {
     "name": "stdout",
     "output_type": "stream",
     "text": [
      "                                                text  label\n",
      "0                                         不愧为美食达人有气势      0\n",
      "1  可能因为我上班没看直播的缘故输了比赛既不生气也不伤心反而还很轻松地去吐槽但看到他们发出道歉的...      0\n",
      "2  好好休息啊太辛苦了妈呀第一次看到眼袋这么明显的宝宝大哭大哭大哭看看你家演员累的卧蚕下面都出眼...      0\n",
      "3        历史米轨两国对岸湄公河岸边灯光江水与美食陪伴可惜这些吃的不对我胃口红河哈尼族彝族自治州      0\n",
      "4                       摩尔街肆年过往店内不仅饮料好喝榴莲班戟和榴莲千层也很棒啊      0\n"
     ]
    }
   ],
   "execution_count": 46
  },
  {
   "metadata": {
    "ExecuteTime": {
     "end_time": "2024-07-10T13:14:50.063794Z",
     "start_time": "2024-07-10T13:14:49.580046Z"
    }
   },
   "cell_type": "code",
   "source": [
    "df_combined = pd.concat([pos_df, neg_df], ignore_index=True)\n",
    "df_shuffled = df_combined.sample(frac=1).reset_index(drop=True)\n",
    "df_shuffled['idx'] = range(len(df_shuffled))"
   ],
   "id": "babdc88cb4208204",
   "outputs": [],
   "execution_count": 52
  },
  {
   "metadata": {
    "ExecuteTime": {
     "end_time": "2024-07-10T13:14:53.862411Z",
     "start_time": "2024-07-10T13:14:53.851403Z"
    }
   },
   "cell_type": "code",
   "source": "print(df_shuffled[:20])",
   "id": "9a6808e67fb347fc",
   "outputs": [
    {
     "name": "stdout",
     "output_type": "stream",
     "text": [
      "                                                 text  label  idx\n",
      "0   四川省凉山州金阳县人民政府官员枉顾法律，贪污人民拆迁款，强制拆迁，导致人民无生活保障，于七月...      1    0\n",
      "1                                            生日开心开心生日      0    1\n",
      "2                      回复今天已经在微信上看到了没办法都是宜宾上游冲下来的又是南溪      0    2\n",
      "3                                       大白鲨台湾台东超级私家景点      0    3\n",
      "4      jej独角兽预约详情已出元红紫双色月到货这里定金预约和出货尾款都不加点实时汇率的哦链接见评论      0    4\n",
      "5   【广州天河岑村村民聚集,反对强制征地现场(图)】“还我田地”！广州村民聚集今天上午10:30...      1    5\n",
      "6   #西安身边事##直播西安#微友@西安料理来稿“六一”儿童节，我们的学校在哪里？5月29日华润...      1    6\n",
      "7                        妈妈爱你好可爱呀好可爱心都化咯哎呀呀真的是妈妈的心肝宝贝      0    7\n",
      "8   呼和浩特永泰城现质量问题，众业主维权艰难，百强企业寐良心，侵吞业主血汗钱。http://t....      1    8\n",
      "9   【产妇死亡家属围堵医生25小时撕其衣逼默哀】10月1日，一名产妇在桂林市妇女儿童医院生产后突...      1    9\n",
      "10                        国庆早上空腹坐广州地铁真是超难受低血糖又缺氧分分钟倒下      0   10\n",
      "11  【警察也怕黑社会？】9月19日，广东韶关乳源县一家派出所门口，干警拉横幅控诉黑社会砍死警察，...      1   11\n",
      "12                                        好激动鼓掌考虑加入嘻嘻      0   12\n",
      "13                                    好活动支持年前送的法压壶很好用      0   13\n",
      "14                                   社区文化凤凰二村社区橱窗焕然一新      0   14\n",
      "15                                    老红军抗议了我在:|北仑大道​      1   15\n",
      "16  #滨州身边事#【业主质疑用料“偷天换日”，售楼处人员抢夺撕毁材料】13日上午，位于博兴县新城...      1   16\n",
      "17                                       嗯你的帆最勤快完全没偷懒      0   17\n",
      "18                                             帅到了买不起      0   18\n",
      "19                                 锡林浩特大唐国际煤矿拖欠农民工工资​      1   19\n"
     ]
    }
   ],
   "execution_count": 53
  },
  {
   "metadata": {
    "ExecuteTime": {
     "end_time": "2024-07-10T13:15:05.563144Z",
     "start_time": "2024-07-10T13:15:04.005071Z"
    }
   },
   "cell_type": "code",
   "source": [
    "from datasets import Dataset\n",
    "\n",
    "dataset = Dataset.from_pandas(df_shuffled)"
   ],
   "id": "b865c52de690cc1a",
   "outputs": [],
   "execution_count": 54
  },
  {
   "metadata": {
    "ExecuteTime": {
     "end_time": "2024-07-10T13:15:05.580571Z",
     "start_time": "2024-07-10T13:15:05.572013Z"
    }
   },
   "cell_type": "code",
   "source": "print(dataset)",
   "id": "7a2a190e013f62d5",
   "outputs": [
    {
     "name": "stdout",
     "output_type": "stream",
     "text": [
      "Dataset({\n",
      "    features: ['text', 'label', 'idx'],\n",
      "    num_rows: 227541\n",
      "})\n"
     ]
    }
   ],
   "execution_count": 55
  },
  {
   "metadata": {
    "ExecuteTime": {
     "end_time": "2024-07-10T13:22:01.505804Z",
     "start_time": "2024-07-10T13:22:01.027680Z"
    }
   },
   "cell_type": "code",
   "source": [
    "train_dev_test = dataset.train_test_split(train_size=0.8)\n",
    "train = train_dev_test['train']\n",
    "\n",
    "dev_test = train_dev_test['test'].train_test_split(train_size=0.5)\n",
    "dev = dev_test['train']\n",
    "test = dev_test['test']"
   ],
   "id": "19ca3931c98636fb",
   "outputs": [],
   "execution_count": 58
  },
  {
   "metadata": {
    "ExecuteTime": {
     "end_time": "2024-07-10T13:22:19.378572Z",
     "start_time": "2024-07-10T13:22:19.373049Z"
    }
   },
   "cell_type": "code",
   "source": "print(train, dev, test)",
   "id": "bae4cae3d62db56a",
   "outputs": [
    {
     "name": "stdout",
     "output_type": "stream",
     "text": [
      "Dataset({\n",
      "    features: ['text', 'label', 'idx'],\n",
      "    num_rows: 182032\n",
      "}) Dataset({\n",
      "    features: ['text', 'label', 'idx'],\n",
      "    num_rows: 22754\n",
      "}) Dataset({\n",
      "    features: ['text', 'label', 'idx'],\n",
      "    num_rows: 22755\n",
      "})\n"
     ]
    }
   ],
   "execution_count": 60
  },
  {
   "metadata": {
    "ExecuteTime": {
     "end_time": "2024-07-10T13:24:44.394919Z",
     "start_time": "2024-07-10T13:24:31.202426Z"
    }
   },
   "cell_type": "code",
   "source": [
    "train.to_parquet('../data/clean/train.parquet', compression='snappy')\n",
    "dev.to_parquet('../data/clean/dev.parquet', compression='snappy')\n",
    "test.to_parquet('../data/clean/test.parquet', compression='snappy')"
   ],
   "id": "787bf9f0b38ed717",
   "outputs": [
    {
     "data": {
      "text/plain": [
       "Creating parquet from Arrow format:   0%|          | 0/183 [00:00<?, ?ba/s]"
      ],
      "application/vnd.jupyter.widget-view+json": {
       "version_major": 2,
       "version_minor": 0,
       "model_id": "26b78b4771f24f08a0d9a5b96434b70a"
      }
     },
     "metadata": {},
     "output_type": "display_data"
    },
    {
     "data": {
      "text/plain": [
       "Creating parquet from Arrow format:   0%|          | 0/23 [00:00<?, ?ba/s]"
      ],
      "application/vnd.jupyter.widget-view+json": {
       "version_major": 2,
       "version_minor": 0,
       "model_id": "adbf157419a24ba6958d87e0dc848f74"
      }
     },
     "metadata": {},
     "output_type": "display_data"
    },
    {
     "data": {
      "text/plain": [
       "Creating parquet from Arrow format:   0%|          | 0/23 [00:00<?, ?ba/s]"
      ],
      "application/vnd.jupyter.widget-view+json": {
       "version_major": 2,
       "version_minor": 0,
       "model_id": "5adccfadb013401988c46de04fa0a824"
      }
     },
     "metadata": {},
     "output_type": "display_data"
    },
    {
     "data": {
      "text/plain": [
       "4507804"
      ]
     },
     "execution_count": 61,
     "metadata": {},
     "output_type": "execute_result"
    }
   ],
   "execution_count": 61
  },
  {
   "metadata": {},
   "cell_type": "code",
   "outputs": [],
   "execution_count": null,
   "source": "",
   "id": "2aae817c40031f5c"
  }
 ],
 "metadata": {
  "kernelspec": {
   "display_name": "Python 3",
   "language": "python",
   "name": "python3"
  },
  "language_info": {
   "codemirror_mode": {
    "name": "ipython",
    "version": 2
   },
   "file_extension": ".py",
   "mimetype": "text/x-python",
   "name": "python",
   "nbconvert_exporter": "python",
   "pygments_lexer": "ipython2",
   "version": "2.7.6"
  }
 },
 "nbformat": 4,
 "nbformat_minor": 5
}
