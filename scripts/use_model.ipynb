{
 "cells": [
  {
   "cell_type": "code",
   "execution_count": 1,
   "id": "0d60b6a8-f78a-462f-be31-fc256f41fdf3",
   "metadata": {},
   "outputs": [
    {
     "name": "stderr",
     "output_type": "stream",
     "text": [
      "/data/user/z/weiqizhang/coref_personal/.coref/lib/python3.10/site-packages/tqdm/auto.py:21: TqdmWarning: IProgress not found. Please update jupyter and ipywidgets. See https://ipywidgets.readthedocs.io/en/stable/user_install.html\n",
      "  from .autonotebook import tqdm as notebook_tqdm\n",
      "Hardware accelerator e.g. GPU is available in the environment, but no `device` argument is passed to the `Pipeline` object. Model will be on CPU.\n"
     ]
    }
   ],
   "source": [
    "from transformers import pipeline\n",
    "\n",
    "task = 'text-classification'\n",
    "model_path = '../src/train_official/checkpoint-17100'\n",
    "\n",
    "nlp = pipeline(task, model=model_path, tokenizer=model_path)"
   ]
  },
  {
   "cell_type": "code",
   "execution_count": 31,
   "id": "9bd8487e-707b-4bda-8eba-82eeb8959dcf",
   "metadata": {},
   "outputs": [
    {
     "name": "stdout",
     "output_type": "stream",
     "text": [
      "[{'label': 'LABEL_1', 'score': 0.999776303768158}, {'label': 'LABEL_0', 'score': 0.9999827146530151}, {'label': 'LABEL_1', 'score': 0.999776303768158}]\n"
     ]
    }
   ],
   "source": [
    "sentences = [\"警察在街口殴打集会的工人。\",\n",
    "            \"今天漫展的人也太多了吧\",\n",
    "            \"今天漫展的人也太多了吧...\"]\n",
    "\n",
    "result = nlp(sentences)\n",
    "print(result)"
   ]
  },
  {
   "cell_type": "code",
   "execution_count": 20,
   "id": "8605f40a-2fde-4563-ae9c-abfa08d16035",
   "metadata": {},
   "outputs": [],
   "source": [
    "id2label = {'LABEL_0': \"non-protest\", 'LABEL_1': \"protest\"}\n",
    "label2id = {\"non-protest\": 'LABEL_0', \"protest\": 'LABEL_1'}"
   ]
  },
  {
   "cell_type": "code",
   "execution_count": 21,
   "id": "8344402b-03b8-4394-b519-75e5749dfc49",
   "metadata": {},
   "outputs": [],
   "source": [
    "from typing import List\n",
    "\n",
    "def output_label(predictions: List[dict], id2label=id2label) -> List[dict]:\n",
    "    predictions_with_label = []\n",
    "    for prediction in predictions:\n",
    "        prediction_with_label = id2label.get(prediction['label'])\n",
    "        predictions_with_label.append({\n",
    "        'label': prediction_with_label,\n",
    "        'score': prediction['score']})\n",
    "        \n",
    "    return predictions_with_label"
   ]
  },
  {
   "cell_type": "code",
   "execution_count": 22,
   "id": "ba914996-5cb0-4acc-8b76-4fd13dc4c831",
   "metadata": {},
   "outputs": [
    {
     "data": {
      "text/plain": [
       "[{'label': 'protest', 'score': 0.999776303768158}]"
      ]
     },
     "execution_count": 22,
     "metadata": {},
     "output_type": "execute_result"
    }
   ],
   "source": [
    "output_label(result)"
   ]
  },
  {
   "cell_type": "code",
   "execution_count": null,
   "id": "be53b4f1-a696-44df-a47e-2948d94fc280",
   "metadata": {},
   "outputs": [],
   "source": []
  }
 ],
 "metadata": {
  "kernelspec": {
   "display_name": "coref",
   "language": "python",
   "name": "coref"
  },
  "language_info": {
   "codemirror_mode": {
    "name": "ipython",
    "version": 3
   },
   "file_extension": ".py",
   "mimetype": "text/x-python",
   "name": "python",
   "nbconvert_exporter": "python",
   "pygments_lexer": "ipython3",
   "version": "3.10.9"
  }
 },
 "nbformat": 4,
 "nbformat_minor": 5
}
