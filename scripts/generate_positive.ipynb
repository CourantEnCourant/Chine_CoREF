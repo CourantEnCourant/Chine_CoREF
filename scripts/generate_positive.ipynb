{
 "cells": [
  {
   "metadata": {},
   "cell_type": "markdown",
   "source": [
    "# Introduction\n",
    "\n",
    "- The aim of this script is to show the probabilities distribution (PD from now) of Jennifer Pan's protest dataset\n",
    "- We choose the \"prob2_combined\", namely the \"combined predicted probability from second stage text and image classifiers\", as it has the best results (see p.26 of Pan's paper)\n",
    "- We have to normalized data as some probabilities are above 1.0\n",
    "- We show PD and compare it to the normal distribution\n",
    "    - They do not fit. But PD seems to fit the decreasing part of a normal distribution. My hypothesis (not verified) is that Pan only published tweets with a high probability of protest\n",
    "- We choose to use tweets above 75% to construct our positive set"
   ],
   "id": "f56a015c8ba15785"
  },
  {
   "metadata": {
    "ExecuteTime": {
     "end_time": "2024-06-25T12:47:35.559350Z",
     "start_time": "2024-06-25T12:47:35.550314Z"
    }
   },
   "cell_type": "code",
   "source": [
    "import pandas as pd\n",
    "import matplotlib.pyplot as plt\n",
    "from scipy.stats import norm\n",
    "import numpy as np"
   ],
   "id": "initial_id",
   "outputs": [],
   "execution_count": 84
  },
  {
   "metadata": {
    "ExecuteTime": {
     "end_time": "2024-06-25T13:18:57.189412Z",
     "start_time": "2024-06-25T13:18:30.858398Z"
    }
   },
   "cell_type": "code",
   "source": [
    "protest_posts = '../data/raw/protest_posts.csv'\n",
    "df = pd.read_csv(protest_posts, sep='\\t')\n",
    "\n",
    "print(f'Number of tweets: {len(df)}')"
   ],
   "id": "52bec6ba47eb1f00",
   "outputs": [
    {
     "name": "stdout",
     "output_type": "stream",
     "text": [
      "Number of tweets: 273950\n"
     ]
    }
   ],
   "execution_count": 110
  },
  {
   "metadata": {
    "ExecuteTime": {
     "end_time": "2024-06-25T12:47:44.936693Z",
     "start_time": "2024-06-25T12:47:44.931235Z"
    }
   },
   "cell_type": "code",
   "source": [
    "# Get the probabilities of the second-stage CNN-RNN combined with the CNN\n",
    "\n",
    "probabilities = df[\"prob2_combined\"]"
   ],
   "id": "5824af682dbb9200",
   "outputs": [],
   "execution_count": 86
  },
  {
   "metadata": {
    "ExecuteTime": {
     "end_time": "2024-06-25T12:47:45.021681Z",
     "start_time": "2024-06-25T12:47:44.939341Z"
    }
   },
   "cell_type": "code",
   "source": [
    "# For some reason the hightest probibility is above one\n",
    "\n",
    "print(f'Maximum probability: {max(probabilities)}')\n",
    "print(f'Minimum probability: {min(probabilities)}')\n",
    "\n",
    "above_1 = probabilities[probabilities > 1]\n",
    "print(f'Number of cases above 100%: {len(above_1)}')"
   ],
   "id": "c9efc6aef9ed0d1d",
   "outputs": [
    {
     "name": "stdout",
     "output_type": "stream",
     "text": [
      "Maximum probability: 1.136242866386625\n",
      "Minimum probability: 0.6643013742953843\n",
      "Number of cases above 100%: 37250\n"
     ]
    }
   ],
   "execution_count": 87
  },
  {
   "metadata": {
    "ExecuteTime": {
     "end_time": "2024-06-25T12:47:45.102619Z",
     "start_time": "2024-06-25T12:47:45.027028Z"
    }
   },
   "cell_type": "code",
   "source": [
    "# We have to normalize data\n",
    "\n",
    "probabilities_normalized = probabilities / max(probabilities)\n",
    "print(f'Max probability after normalization: {max(probabilities_normalized)}')"
   ],
   "id": "2729c29ce80b0d66",
   "outputs": [
    {
     "name": "stdout",
     "output_type": "stream",
     "text": [
      "Max probability after normalization: 1.0\n"
     ]
    }
   ],
   "execution_count": 88
  },
  {
   "metadata": {
    "ExecuteTime": {
     "end_time": "2024-06-25T13:13:07.202087Z",
     "start_time": "2024-06-25T13:13:06.874861Z"
    }
   },
   "cell_type": "code",
   "source": [
    "# See probabilities distribution and compare to normal distribution\n",
    "\n",
    "plt.hist(probabilities_normalized, bins=15, alpha=0.6, color='g', density=True)\n",
    "\n",
    "# Mean and std deviation\n",
    "mu, std = probabilities_normalized.mean(), probabilities_normalized.std()\n",
    "\n",
    "# Output graph\n",
    "xmin, xmax = plt.xlim()\n",
    "x = np.linspace(xmin, xmax, 100)\n",
    "p = norm.pdf(x, mu, std)\n",
    "\n",
    "plt.plot(x, p, 'k', linewidth=2)\n",
    "title = f\"mean = {round(mu, 2)},  std = {round(std, 2)}\"\n",
    "plt.title(title)\n",
    "\n",
    "plt.show()"
   ],
   "id": "789552f4446d9c31",
   "outputs": [
    {
     "data": {
      "text/plain": [
       "<Figure size 640x480 with 1 Axes>"
      ],
      "image/png": "[encoded data removed]"
     },
     "metadata": {},
     "output_type": "display_data"
    }
   ],
   "execution_count": 109
  },
  {
   "metadata": {},
   "cell_type": "markdown",
   "source": [
    "## Commentary\n",
    "\n",
    "We see that the probabitilies distribution does not fit the normal distribution. My hypothesis (not verified) is that Pan only published tweets with a high probability of protest."
   ],
   "id": "c68d5563f5d0babd"
  },
  {
   "metadata": {
    "ExecuteTime": {
     "end_time": "2024-06-25T12:47:45.415827Z",
     "start_time": "2024-06-25T12:47:45.398456Z"
    }
   },
   "cell_type": "code",
   "source": [
    "# We choose to only conserve tweets above 65% probability of being a protest to construct our dataset\n",
    "\n",
    "positive_set = probabilities_normalized[probabilities_normalized > 0.75]\n",
    "percentage = round(len(positive_set) / len(probabilities_normalized) * 100, 1)\n",
    "\n",
    "print(f'Number of cases above 75% probability: {len(positive_set)}')\n",
    "print(f'Percentage of cases above 75% probability: {percentage}%')"
   ],
   "id": "a485d82d04360712",
   "outputs": [
    {
     "name": "stdout",
     "output_type": "stream",
     "text": [
      "Number of cases above 75% probability: 113771\n",
      "Percentage of cases above 75% probability: 41.5%\n"
     ]
    }
   ],
   "execution_count": 90
  },
  {
   "metadata": {
    "ExecuteTime": {
     "end_time": "2024-06-25T12:55:06.601821Z",
     "start_time": "2024-06-25T12:55:04.765907Z"
    }
   },
   "cell_type": "code",
   "source": [
    "# We actually have to \"unnormalized\" the threshold probability so it would fit to the probabilities in the original dataset\n",
    "\n",
    "threshold = 0.75*max(probabilities)\n",
    "tweets_above_threshold = df[df['prob2_combined'] > threshold]['content']"
   ],
   "id": "7d8df1b85d37f682",
   "outputs": [],
   "execution_count": 99
  },
  {
   "metadata": {
    "ExecuteTime": {
     "end_time": "2024-06-25T12:57:34.556270Z",
     "start_time": "2024-06-25T12:57:33.121602Z"
    }
   },
   "cell_type": "code",
   "source": [
    "# Generate positive set\n",
    "\n",
    "tweets_above_threshold.to_csv('../data/clean/tweets_positive.txt', header=False, index=False)"
   ],
   "id": "b6f7fb28e764967b",
   "outputs": [],
   "execution_count": 102
  },
  {
   "metadata": {},
   "cell_type": "code",
   "outputs": [],
   "execution_count": null,
   "source": "",
   "id": "c1afbec131d9218f"
  }
 ],
 "metadata": {
  "kernelspec": {
   "display_name": "Python 3",
   "language": "python",
   "name": "python3"
  },
  "language_info": {
   "codemirror_mode": {
    "name": "ipython",
    "version": 2
   },
   "file_extension": ".py",
   "mimetype": "text/x-python",
   "name": "python",
   "nbconvert_exporter": "python",
   "pygments_lexer": "ipython2",
   "version": "2.7.6"
  }
 },
 "nbformat": 4,
 "nbformat_minor": 5
}
