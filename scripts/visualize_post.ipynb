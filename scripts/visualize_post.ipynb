{
 "cells": [
  {
   "metadata": {
    "ExecuteTime": {
     "end_time": "2024-06-18T09:11:29.896156Z",
     "start_time": "2024-06-18T09:11:28.631973Z"
    }
   },
   "cell_type": "code",
   "source": "import pandas as pd",
   "id": "76c69829a18c889b",
   "outputs": [],
   "execution_count": 1
  },
  {
   "metadata": {
    "ExecuteTime": {
     "end_time": "2024-06-18T09:11:29.908948Z",
     "start_time": "2024-06-18T09:11:29.899535Z"
    }
   },
   "cell_type": "code",
   "source": "protest_posts = '../output/protest_posts.csv'",
   "id": "initial_id",
   "outputs": [],
   "execution_count": 2
  },
  {
   "metadata": {
    "ExecuteTime": {
     "end_time": "2024-06-18T09:11:36.936589Z",
     "start_time": "2024-06-18T09:11:29.912673Z"
    }
   },
   "cell_type": "code",
   "source": [
    "df = pd.read_csv(protest_posts, sep='\\t')\n",
    "print(f'Number of rows: {len(df)}')"
   ],
   "id": "eb1fe3413ccdce5",
   "outputs": [
    {
     "name": "stdout",
     "output_type": "stream",
     "text": [
      "Number of rows: 273950\n"
     ]
    }
   ],
   "execution_count": 3
  },
  {
   "metadata": {
    "ExecuteTime": {
     "end_time": "2024-06-18T09:11:55.579031Z",
     "start_time": "2024-06-18T09:11:55.567783Z"
    }
   },
   "cell_type": "code",
   "source": [
    "\"\"\"Modify post_index to change the post you want to visualize. Uncomment a certain line to show associated metadata.\"\"\"\n",
    "\n",
    "post_index = 8098\n",
    "\n",
    "print(f'Content: {df[\"content\"][post_index]}')\n",
    "print(f'Time: {df[\"time\"][post_index]}')\n",
    "#print(f'Imgstr: {df[\"imgstr\"][post_index]}')\n",
    "#print(f'Words: {df[\"words\"][post_index]}')\n",
    "#print(f'Prov: {df[\"prov\"][post_index]}')\n",
    "#print(f'Prov code: {df[\"prov_code\"][post_index]}')\n",
    "#print(f'City: {df[\"city\"][post_index]}')\n",
    "#print(f'City code: {df[\"city_code\"][post_index]}')\n",
    "#print(f'County: {df[\"county\"][post_index]}')\n",
    "#print(f'County code: {df[\"county_code\"][post_index]}')\n",
    "print(f'Prob C1: {df[\"prob_c1\"][post_index]}')\n",
    "#print(f'Prob ima: {df[\"prob_ima\"][post_index]}')\n",
    "#print(f'Prob1_combined: {df[\"prob1_combined\"][post_index]}')\n",
    "#print(f'prob_c2: {df[\"prob_c2\"][post_index]}')\n",
    "#print(f'prob2_combined: {df[\"prob2_combined\"][post_index]}')\n",
    "#print(f'date: {df[\"date\"][post_index]}')\n",
    "#print(f'county_code_parsed: {df[\"county_code_parsed\"][post_index]}')\n",
    "#print(f'county_code_dedup: {df[\"county_code_dedup\"][post_index]}')\n",
    "#print(f'event_id: {df[\"event_id\"][post_index]}')"
   ],
   "id": "c7e11aeb29cc95dd",
   "outputs": [
    {
     "name": "stdout",
     "output_type": "stream",
     "text": [
      "Content: 长阳县响石村官商勾结——强占土地欺压百姓毒打村民_中搜论坛_东西南北中、搜罗天下事网页链接​\n",
      "Time: 2011-6-12 23:47\n",
      "Prob C1: 0.9738628268\n"
     ]
    }
   ],
   "execution_count": 6
  },
  {
   "metadata": {},
   "cell_type": "code",
   "source": "",
   "id": "6e2bf12d7a25bf9",
   "outputs": [],
   "execution_count": null
  },
  {
   "metadata": {},
   "cell_type": "code",
   "outputs": [],
   "execution_count": null,
   "source": "",
   "id": "84869c541b47380c"
  }
 ],
 "metadata": {
  "kernelspec": {
   "display_name": "coref",
   "language": "python",
   "name": "coref"
  },
  "language_info": {
   "codemirror_mode": {
    "name": "ipython",
    "version": 2
   },
   "file_extension": ".py",
   "mimetype": "text/x-python",
   "name": "python",
   "nbconvert_exporter": "python",
   "pygments_lexer": "ipython2",
   "version": "2.7.6"
  }
 },
 "nbformat": 4,
 "nbformat_minor": 5
}
