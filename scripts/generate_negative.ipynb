{
 "cells": [
  {
   "metadata": {},
   "cell_type": "markdown",
   "source": [
    "# Introduction\n",
    "\n",
    "- Generate negative set from WeiboSentiment2019.csv"
   ],
   "id": "ffa7637a18b2e768"
  },
  {
   "metadata": {
    "ExecuteTime": {
     "end_time": "2024-06-25T14:19:44.117126Z",
     "start_time": "2024-06-25T14:19:44.109178Z"
    }
   },
   "cell_type": "code",
   "source": "import pandas as pd",
   "id": "336a119ca93c3706",
   "outputs": [],
   "execution_count": 27
  },
  {
   "metadata": {
    "ExecuteTime": {
     "end_time": "2024-06-25T14:19:48.588324Z",
     "start_time": "2024-06-25T14:19:44.471849Z"
    }
   },
   "cell_type": "code",
   "source": [
    "negative = pd.read_csv('../data/raw/WeiboSentiment2019.csv', sep=',')\n",
    "positive = pd.read_csv('../data/clean/tweets_positive.txt')"
   ],
   "id": "29d132f16c15a409",
   "outputs": [],
   "execution_count": 28
  },
  {
   "metadata": {
    "ExecuteTime": {
     "end_time": "2024-06-25T14:19:48.704730Z",
     "start_time": "2024-06-25T14:19:48.594635Z"
    }
   },
   "cell_type": "code",
   "source": [
    "# We want both sets to have the same size\n",
    "\n",
    "print(f'The positive set has {len(positive)} tweets.')\n",
    "print(f'The negative set has {len(negative)} tweets.')\n",
    "negative_random = negative.sample(n=len(positive), random_state=42)\n",
    "print(f'The negative set now has {len(negative_random)} tweets.')"
   ],
   "id": "bf86b50a0c797737",
   "outputs": [
    {
     "name": "stdout",
     "output_type": "stream",
     "text": [
      "The positive set has 113770 tweets.\n",
      "The negative set has 671053 tweets.\n",
      "The negative set now has 113770 tweets.\n"
     ]
    }
   ],
   "execution_count": 29
  },
  {
   "metadata": {
    "ExecuteTime": {
     "end_time": "2024-06-25T14:19:49.736181Z",
     "start_time": "2024-06-25T14:19:48.712902Z"
    }
   },
   "cell_type": "code",
   "source": [
    "negative_clean = negative_random[\"seged_weibo\"]\n",
    "\n",
    "# Uncomment the following line if you wish to remove spaces (tokenization/segmentation) between words\n",
    "#negative_random = negative_clean.str.replace(' ', '', regex=False)\n",
    "\n",
    "negative_clean.to_csv('../data/clean/tweets_negative.txt', index=False, header=False)"
   ],
   "id": "34549459e4c659e",
   "outputs": [],
   "execution_count": 30
  },
  {
   "metadata": {},
   "cell_type": "code",
   "outputs": [],
   "execution_count": null,
   "source": "",
   "id": "48ec5f577007b380"
  }
 ],
 "metadata": {
  "kernelspec": {
   "display_name": "Python 3",
   "language": "python",
   "name": "python3"
  },
  "language_info": {
   "codemirror_mode": {
    "name": "ipython",
    "version": 2
   },
   "file_extension": ".py",
   "mimetype": "text/x-python",
   "name": "python",
   "nbconvert_exporter": "python",
   "pygments_lexer": "ipython2",
   "version": "2.7.6"
  }
 },
 "nbformat": 4,
 "nbformat_minor": 5
}
