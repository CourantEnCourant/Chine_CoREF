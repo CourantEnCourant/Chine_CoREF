{
 "cells": [
  {
   "metadata": {
    "ExecuteTime": {
     "end_time": "2024-06-21T13:34:49.967526Z",
     "start_time": "2024-06-21T13:34:48.023887Z"
    }
   },
   "cell_type": "code",
   "source": "import pandas as pd",
   "id": "76c69829a18c889b",
   "outputs": [],
   "execution_count": 13
  },
  {
   "metadata": {
    "ExecuteTime": {
     "end_time": "2024-06-21T13:34:49.982988Z",
     "start_time": "2024-06-21T13:34:49.972478Z"
    }
   },
   "cell_type": "code",
   "source": "protest_posts = '../data/raw/protest_posts.csv'",
   "id": "initial_id",
   "outputs": [],
   "execution_count": 14
  },
  {
   "metadata": {
    "ExecuteTime": {
     "end_time": "2024-06-21T13:35:01.531219Z",
     "start_time": "2024-06-21T13:34:49.987090Z"
    }
   },
   "cell_type": "code",
   "source": [
    "df = pd.read_csv(protest_posts, sep='\\t')\n",
    "print(f'Number of rows: {len(df)}')"
   ],
   "id": "eb1fe3413ccdce5",
   "outputs": [
    {
     "name": "stdout",
     "output_type": "stream",
     "text": [
      "Number of rows: 273950\n"
     ]
    }
   ],
   "execution_count": 15
  },
  {
   "metadata": {
    "ExecuteTime": {
     "end_time": "2024-06-21T13:35:01.586425Z",
     "start_time": "2024-06-21T13:35:01.541227Z"
    }
   },
   "cell_type": "code",
   "source": [
    "\"\"\"Modify post_index to change the post you want to visualize. Uncomment a certain line to show associated metadata.\"\"\"\n",
    "\n",
    "post_index = 8098\n",
    "\n",
    "print(f'Content: {df[\"content\"][post_index]}')\n",
    "print(f'Time: {df[\"time\"][post_index]}')\n",
    "#print(f'Imgstr: {df[\"imgstr\"][post_index]}')\n",
    "#print(f'Words: {df[\"words\"][post_index]}')\n",
    "#print(f'Prov: {df[\"prov\"][post_index]}')\n",
    "#print(f'Prov code: {df[\"prov_code\"][post_index]}')\n",
    "#print(f'City: {df[\"city\"][post_index]}')\n",
    "#print(f'City code: {df[\"city_code\"][post_index]}')\n",
    "#print(f'County: {df[\"county\"][post_index]}')\n",
    "#print(f'County code: {df[\"county_code\"][post_index]}')\n",
    "print(f'Prob C1: {df[\"prob_c1\"][post_index]}')\n",
    "#print(f'Prob ima: {df[\"prob_ima\"][post_index]}')\n",
    "#print(f'Prob1_combined: {df[\"prob1_combined\"][post_index]}')\n",
    "#print(f'prob_c2: {df[\"prob_c2\"][post_index]}')\n",
    "#print(f'prob2_combined: {df[\"prob2_combined\"][post_index]}')\n",
    "#print(f'date: {df[\"date\"][post_index]}')\n",
    "#print(f'county_code_parsed: {df[\"county_code_parsed\"][post_index]}')\n",
    "#print(f'county_code_dedup: {df[\"county_code_dedup\"][post_index]}')\n",
    "#print(f'event_id: {df[\"event_id\"][post_index]}')"
   ],
   "id": "c7e11aeb29cc95dd",
   "outputs": [
    {
     "name": "stdout",
     "output_type": "stream",
     "text": [
      "Content: 长阳县响石村官商勾结——强占土地欺压百姓毒打村民_中搜论坛_东西南北中、搜罗天下事网页链接​\n",
      "Time: 2011-6-12 23:47\n",
      "Prob C1: 0.9738628268\n"
     ]
    }
   ],
   "execution_count": 16
  },
  {
   "metadata": {
    "ExecuteTime": {
     "end_time": "2024-06-21T13:35:18.240887Z",
     "start_time": "2024-06-21T13:35:18.228111Z"
    }
   },
   "cell_type": "code",
   "source": [
    "import torch\n",
    "from transformers import BertTokenizer, BertForSequenceClassification"
   ],
   "id": "6dd611483ac70c35",
   "outputs": [],
   "execution_count": 19
  },
  {
   "metadata": {
    "ExecuteTime": {
     "end_time": "2024-06-21T13:35:24.245007Z",
     "start_time": "2024-06-21T13:35:18.603751Z"
    }
   },
   "cell_type": "code",
   "source": [
    "device = torch.device(\"cuda\" if torch.cuda.is_available() else \"cpu\")\n",
    "checkpoint = \"../src/pred_genre\"\n",
    "tokenizer = BertTokenizer.from_pretrained(checkpoint, \n",
    "                                          problem_type=\"single_label_classification\")\n",
    "model = BertForSequenceClassification.from_pretrained(checkpoint).to(device)\n",
    "\n",
    "label2id_genre = {'涉案': 7, '都市': 10, '革命': 12, '农村': 4, '传奇': 0, \n",
    "                  '其它': 2, '传记': 1, '青少': 11, '军旅': 3, '武打': 6, \n",
    "                  '科幻': 9, '神话': 8, '宫廷': 5}\n",
    "\n",
    "id2label_genre = {7: '涉案', 10: '都市', 12: '革命', 4: '农村', 0: '传奇', \n",
    "                  2: '其它', 1: '传记', 11: '青少', 3: '军旅', 6: '武打', \n",
    "                  9: '科幻', 8: '神话', 5: '宫廷'}"
   ],
   "id": "71bcd3ee847e9135",
   "outputs": [],
   "execution_count": 20
  },
  {
   "metadata": {
    "ExecuteTime": {
     "end_time": "2024-06-21T13:35:25.610743Z",
     "start_time": "2024-06-21T13:35:24.254184Z"
    }
   },
   "cell_type": "code",
   "source": [
    "synopsis = \"\"\"加油吧！检察官。鲤州市安平区检察院检察官助理蔡晓与徐美津是两个刚入职场的“菜鸟”。\\\n",
    "他们在老检察官冯昆的指导与鼓励下，凭借着自己的一腔热血与对检察事业的执著追求，克服工作上的种种困难，\\\n",
    "成功办理电竞赌博、虚假诉讼、水产市场涉黑等一系列复杂案件，惩治了犯罪分子，维护了人民群众的合法权益，\\\n",
    "为社会主义法治建设贡献了自己的一份力量。在这个过程中，蔡晓与徐美津不仅得到了业务能力上的提升，\\\n",
    "也领悟了人生的真谛，学会真诚地面对家人与朋友，收获了亲情与友谊，成长为合格的员额检察官，\\\n",
    "继续为检察事业贡献自己的青春。\"\"\"\n",
    "\n",
    "inputs = tokenizer(synopsis, truncation=True, max_length=512, return_tensors='pt')\n",
    "model.eval()\n",
    "outputs = model(**inputs)\n",
    "\n",
    "label_ids_pred = torch.argmax(outputs.logits, dim=1).to('cpu').numpy()\n",
    "labels_pred = [id2label_genre[id] for id in label_ids_pred]\n",
    "\n",
    "print(labels_pred)"
   ],
   "id": "5e159c86f96297e3",
   "outputs": [
    {
     "name": "stdout",
     "output_type": "stream",
     "text": [
      "['涉案']\n"
     ]
    }
   ],
   "execution_count": 21
  },
  {
   "metadata": {
    "ExecuteTime": {
     "end_time": "2024-06-21T13:35:30.325548Z",
     "start_time": "2024-06-21T13:35:28.894784Z"
    }
   },
   "cell_type": "code",
   "source": [
    "label2id_genre = {'涉案': 7, '都市': 10, '革命': 12, '农村': 4, '传奇': 0, \n",
    "                  '其它': 2, '传记': 1, '青少': 11, '军旅': 3, '武打': 6, \n",
    "                  '科幻': 9, '神话': 8, '宫廷': 5}\n",
    "\n",
    "id2label_genre = {7: '涉案', 10: '都市', 12: '革命', 4: '农村', 0: '传奇', \n",
    "                  2: '其它', 1: '传记', 11: '青少', 3: '军旅', 6: '武打', \n",
    "                  9: '科幻', 8: '神话', 5: '宫廷'}\n",
    "\n",
    "synopsis = '长阳县响石村官商勾结——强占土地欺压百姓毒打村民_中搜论坛_东西南北中、搜罗天下事网页链接​'\n",
    "\n",
    "inputs = tokenizer(synopsis, truncation=True, max_length=512, return_tensors='pt')\n",
    "model.eval()\n",
    "outputs = model(**inputs)\n",
    "\n",
    "label_ids_pred = torch.argmax(outputs.logits, dim=1).to('cpu').numpy()\n",
    "labels_pred = [id2label_genre[id] for id in label_ids_pred]\n",
    "\n",
    "print(labels_pred)"
   ],
   "id": "84869c541b47380c",
   "outputs": [
    {
     "name": "stdout",
     "output_type": "stream",
     "text": [
      "['农村']\n"
     ]
    }
   ],
   "execution_count": 22
  },
  {
   "metadata": {
    "ExecuteTime": {
     "end_time": "2024-06-21T13:35:30.807355Z",
     "start_time": "2024-06-21T13:35:30.785011Z"
    }
   },
   "cell_type": "code",
   "source": "#posts = df[\"content\"]",
   "id": "a8fec4856d0278ba",
   "outputs": [],
   "execution_count": 23
  },
  {
   "metadata": {
    "ExecuteTime": {
     "end_time": "2024-06-21T13:35:31.097066Z",
     "start_time": "2024-06-21T13:35:31.077438Z"
    }
   },
   "cell_type": "code",
   "source": "#posts.to_csv('../data/raw/tweets.txt', sep='\\t', index=False, header=False)",
   "id": "f48085a6ac2c5b4c",
   "outputs": [],
   "execution_count": 24
  },
  {
   "metadata": {
    "ExecuteTime": {
     "end_time": "2024-06-21T13:35:31.980117Z",
     "start_time": "2024-06-21T13:35:31.972555Z"
    }
   },
   "cell_type": "code",
   "source": [
    "posts = '珠海众大利面临破产拖欠员工工资10月之久！民工生活难以为继。网页链接桂林旅院大学生微博协会@桂林旅院新鲜事@潘石屹@中国新闻网@唐骏@央视新闻。帮帮农民工兄弟，讨回血汗钱。网页链接​'\n",
    "\n",
    "inputs = tokenizer(posts, truncation=True, max_length=512, return_tensors='pt')"
   ],
   "id": "b426c0d67f20b6af",
   "outputs": [],
   "execution_count": 25
  },
  {
   "metadata": {
    "ExecuteTime": {
     "end_time": "2024-06-21T13:35:33.309013Z",
     "start_time": "2024-06-21T13:35:33.302753Z"
    }
   },
   "cell_type": "code",
   "source": "prob1 = df[\"prob_c1\"]",
   "id": "532dcf276c6cedeb",
   "outputs": [],
   "execution_count": 26
  },
  {
   "metadata": {
    "ExecuteTime": {
     "end_time": "2024-06-21T13:36:12.714920Z",
     "start_time": "2024-06-21T13:36:12.664933Z"
    }
   },
   "cell_type": "code",
   "source": "print(min(prob1))",
   "id": "8018c856a4f1c135",
   "outputs": [
    {
     "name": "stdout",
     "output_type": "stream",
     "text": [
      "0.4904630184000001\n"
     ]
    }
   ],
   "execution_count": 27
  },
  {
   "metadata": {
    "ExecuteTime": {
     "end_time": "2024-06-21T13:38:38.598338Z",
     "start_time": "2024-06-21T13:38:38.584839Z"
    }
   },
   "cell_type": "code",
   "source": "",
   "id": "1ffd19413ef45baf",
   "outputs": [
    {
     "name": "stdout",
     "output_type": "stream",
     "text": [
      "125419    今早深圳市福永镇凤凰菜市场，一群武警对新疆屠杀羊者围堵。​\n",
      "Name: content, dtype: object\n"
     ]
    }
   ],
   "execution_count": 29
  },
  {
   "metadata": {},
   "cell_type": "code",
   "outputs": [],
   "execution_count": null,
   "source": "",
   "id": "f07a2e8653d15a38"
  }
 ],
 "metadata": {
  "kernelspec": {
   "display_name": "coref",
   "language": "python",
   "name": "coref"
  },
  "language_info": {
   "codemirror_mode": {
    "name": "ipython",
    "version": 2
   },
   "file_extension": ".py",
   "mimetype": "text/x-python",
   "name": "python",
   "nbconvert_exporter": "python",
   "pygments_lexer": "ipython2",
   "version": "2.7.6"
  }
 },
 "nbformat": 4,
 "nbformat_minor": 5
}
