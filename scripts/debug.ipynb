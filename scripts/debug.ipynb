{
 "cells": [
  {
   "metadata": {
    "ExecuteTime": {
     "end_time": "2024-07-12T11:40:10.050321Z",
     "start_time": "2024-07-12T11:40:00.704325Z"
    }
   },
   "cell_type": "code",
   "source": "from create_training_set import *",
   "id": "89664065c18ce56b",
   "outputs": [],
   "execution_count": 1
  },
  {
   "metadata": {
    "ExecuteTime": {
     "end_time": "2024-07-12T11:40:10.089090Z",
     "start_time": "2024-07-12T11:40:10.068608Z"
    }
   },
   "cell_type": "code",
   "source": [
    "positive = '../data/raw/protest_posts.csv'\n",
    "negative = '../data/raw/WeiboSentiment2019.csv'\n",
    "output_folder = '../data/clean'\n",
    "threshold = 0.6\n",
    "percentage = 0.8"
   ],
   "id": "3fd1bced53cbf7ec",
   "outputs": [],
   "execution_count": 2
  },
  {
   "metadata": {
    "ExecuteTime": {
     "end_time": "2024-07-11T15:21:20.410587Z",
     "start_time": "2024-07-11T15:21:12.469696Z"
    }
   },
   "cell_type": "code",
   "source": "positive_preprocessed = preprocess_positive(positive, threshold)",
   "id": "9a5cf59f0dbe0179",
   "outputs": [],
   "execution_count": 4
  },
  {
   "metadata": {
    "ExecuteTime": {
     "end_time": "2024-07-11T15:21:20.437839Z",
     "start_time": "2024-07-11T15:21:20.421546Z"
    }
   },
   "cell_type": "code",
   "source": "size = len(positive_preprocessed)",
   "id": "3f6d19e83366a697",
   "outputs": [],
   "execution_count": 5
  },
  {
   "metadata": {
    "ExecuteTime": {
     "end_time": "2024-07-11T15:21:34.957555Z",
     "start_time": "2024-07-11T15:21:31.883981Z"
    }
   },
   "cell_type": "code",
   "source": "df_negative = pd.read_csv(negative, sep=',')",
   "id": "43e4f26b20b8cd2f",
   "outputs": [],
   "execution_count": 6
  },
  {
   "metadata": {
    "ExecuteTime": {
     "end_time": "2024-07-11T15:21:59.240168Z",
     "start_time": "2024-07-11T15:21:59.003909Z"
    }
   },
   "cell_type": "code",
   "source": "df_negative_resized = df_negative.sample(n=size, random_state=42)",
   "id": "8494f0b01e541f9a",
   "outputs": [],
   "execution_count": 8
  },
  {
   "metadata": {
    "ExecuteTime": {
     "end_time": "2024-07-11T15:22:22.399831Z",
     "start_time": "2024-07-11T15:22:22.390617Z"
    }
   },
   "cell_type": "code",
   "source": "print(df_negative_resized[:5])",
   "id": "a1587e90087a7cda",
   "outputs": [
    {
     "name": "stdout",
     "output_type": "stream",
     "text": [
      "        Unnamed: 0              label  \\\n",
      "378996      378996  __label__positive   \n",
      "54727        54727  __label__negative   \n",
      "256257      256257  __label__negative   \n",
      "563519      563519  __label__negative   \n",
      "435754      435754  __label__positive   \n",
      "\n",
      "                                              seged_weibo  \n",
      "378996                                    不愧为 美食 达 人 有 气势  \n",
      "54727   可能 因为 我 上班 没看 直播 的 缘故 输 了 比赛 既 不生气 也 不伤心 反而 还 ...  \n",
      "256257  好好 休息 啊 太 辛苦 了 妈呀 第一次 看到 眼袋 这么 明显的 宝宝 大哭 大哭 大哭...  \n",
      "563519  历史 米轨 两 国 对岸 湄公河 岸边 灯光 江水 与 美食 陪伴 可惜 这些 吃 的 不对...  \n",
      "435754        摩尔 街肆 年 过往 店内 不仅 饮料 好喝 榴莲 班戟 和 榴莲 千层 也 很棒 啊  \n"
     ]
    }
   ],
   "execution_count": 10
  },
  {
   "metadata": {},
   "cell_type": "code",
   "outputs": [],
   "execution_count": null,
   "source": [
    "df_negative = pd.read_csv(negative, sep=',')\n",
    "df_negative_resized = df_negative.sample(n=size, random_state=42)\n",
    "negative_preprocessed = df_negative_resized[\"seged_weibo\"]\n",
    "negative_preprocessed = negative_preprocessed.str.replace(' ', '', regex=False)"
   ],
   "id": "581d534728e30378"
  }
 ],
 "metadata": {
  "kernelspec": {
   "display_name": "Python 3",
   "language": "python",
   "name": "python3"
  },
  "language_info": {
   "codemirror_mode": {
    "name": "ipython",
    "version": 2
   },
   "file_extension": ".py",
   "mimetype": "text/x-python",
   "name": "python",
   "nbconvert_exporter": "python",
   "pygments_lexer": "ipython2",
   "version": "2.7.6"
  }
 },
 "nbformat": 4,
 "nbformat_minor": 5
}
